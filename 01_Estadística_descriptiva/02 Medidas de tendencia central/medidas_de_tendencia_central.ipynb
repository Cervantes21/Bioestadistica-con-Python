{
 "cells": [
  {
   "attachments": {},
   "cell_type": "markdown",
   "metadata": {},
   "source": [
    "<div style='background-color:yellow;color:black;font-family:monospace;'>\n",
    "    <h1 align='center'><b>Medidas de tendencia central</b></h1>\n",
    "</div>"
   ]
  },
  {
   "attachments": {},
   "cell_type": "markdown",
   "metadata": {},
   "source": [
    "Las medidas de tendencia central informan acerca de cuál es el valor más representativo de una determianda variable o, dicho de forma equivalente, estos estimadores indican alrededor de qué valor se agrupan los datos observados. Las medidas de tendencia central de la muestra sirven tanto para resumir los resultados observados como para realizar inferencias acerca de los parámetros poblacionales correspondientes. A continuación se describen los principales estimadores de la tendencia central de una variable."
   ]
  },
  {
   "attachments": {},
   "cell_type": "markdown",
   "metadata": {},
   "source": [
    "## **Media aritmética**\n",
    "\n",
    "La **media aritmética**, denotada por ***X***, se define como la suma de cada uno de los valores muestrales dividida por el número de observaciones totales. Si denotamos por ***n*** el tamaño muestral y por x{i}***X̣i*** el valor observador para el sujeto i-ésimo, **i = 1, ..., *n***, la media vendría dada por \n",
    "\n",
    "**Formúla**\n",
    "\n",
    "![formula_de_lamedia]()\n",
    "\n",
    "La **media** es la medida de tendencia central más utilizada y de más fácil interpretación.\n",
    "\n",
    "Corresponde al \"centro de gravedad\" de los datos de muestra.\n",
    "\n",
    "Su principal limitación es que está influenciada por los valores extremos y, en este caso, puede no ser un fiel reflejo de la tendencia de la distribución.\n",
    "\n"
   ]
  },
  {
   "attachments": {},
   "cell_type": "markdown",
   "metadata": {},
   "source": [
    "### Ejemplo de la media:\n",
    "\n",
    "Para este ejemplo, construiremos datos aleatorios con una librería de Python llamada **Numpy** y también usaremos **Pandas** y veremos también como programar y calcular la **media** y cómo puede una librería también simplificar la labor."
   ]
  },
  {
   "cell_type": "code",
   "execution_count": 1,
   "metadata": {},
   "outputs": [],
   "source": [
    "# Importamos librerías:\n",
    "\n",
    "import numpy as np\n",
    "import pandas as pd"
   ]
  },
  {
   "cell_type": "code",
   "execution_count": 4,
   "metadata": {},
   "outputs": [
    {
     "data": {
      "text/plain": [
       "array([2.84718650e-01, 1.95212008e-01, 7.70376474e-01, 4.76931041e-01,\n",
       "       2.94148727e-02, 5.74288576e-01, 2.78004996e-01, 6.92172441e-01,\n",
       "       8.54111153e-01, 4.33072757e-01, 4.82916164e-04, 8.58079609e-01,\n",
       "       5.45475479e-01, 4.70374975e-02, 4.79737552e-01, 8.63391943e-01,\n",
       "       5.47702668e-01, 3.49885267e-01, 4.10576104e-01, 1.99340809e-01,\n",
       "       8.66631868e-01, 2.32474433e-01, 5.68074547e-01, 8.01354511e-01,\n",
       "       8.07643567e-01, 4.18195647e-02, 6.24084629e-01, 1.25141029e-03,\n",
       "       5.53833246e-01, 7.98801510e-01, 3.70027548e-01, 1.99591292e-01,\n",
       "       2.91610275e-01, 5.00867859e-02, 7.34293364e-01, 5.16341944e-01,\n",
       "       5.63083282e-01, 7.97417031e-01, 4.52777823e-01, 6.56552312e-01,\n",
       "       2.82811797e-01, 7.99376808e-01, 4.92048826e-02, 2.84333309e-01,\n",
       "       9.84855691e-01, 9.95382727e-01, 9.33221734e-01, 6.20785444e-01,\n",
       "       5.23736873e-01, 4.68265337e-01, 4.20971253e-01, 8.77441290e-01,\n",
       "       1.83671169e-01, 4.06034471e-01, 1.73916308e-01, 1.77207129e-01,\n",
       "       7.11813129e-01, 2.70940292e-01, 9.48238030e-01, 9.83666472e-01,\n",
       "       4.47352064e-01, 5.71015868e-01, 5.73976991e-01, 1.32354103e-02,\n",
       "       6.80865872e-02, 9.20106915e-01, 5.65918001e-01, 1.94823897e-01,\n",
       "       4.29485503e-01, 4.94922544e-02, 3.86746428e-01, 2.81182303e-01,\n",
       "       6.17499120e-01, 1.18417825e-02, 4.70685556e-01, 7.01110574e-01,\n",
       "       1.68483100e-01, 4.23497890e-01, 8.45324101e-01, 1.45646733e-01,\n",
       "       7.90531935e-01, 4.44538357e-01, 9.49082079e-01, 4.87711287e-01,\n",
       "       8.37992545e-01, 8.20902655e-01, 7.32748730e-01, 4.59296299e-01,\n",
       "       9.78313088e-01, 4.12368277e-01, 4.12644297e-02, 9.99187550e-01,\n",
       "       1.51903228e-01, 7.23195412e-01, 8.51542937e-02, 2.89502691e-01,\n",
       "       8.74445104e-01, 8.47878025e-01, 4.69561686e-02, 1.41468125e-01])"
      ]
     },
     "execution_count": 4,
     "metadata": {},
     "output_type": "execute_result"
    }
   ],
   "source": [
    "sample = np.random.rand(100)\n",
    "sample\n"
   ]
  },
  {
   "cell_type": "code",
   "execution_count": 5,
   "metadata": {},
   "outputs": [
    {
     "data": {
      "text/plain": [
       "0.48913589255852885"
      ]
     },
     "execution_count": 5,
     "metadata": {},
     "output_type": "execute_result"
    }
   ],
   "source": [
    "sample.mean()"
   ]
  },
  {
   "cell_type": "code",
   "execution_count": 9,
   "metadata": {},
   "outputs": [
    {
     "data": {
      "text/plain": [
       "0.48913589255852885"
      ]
     },
     "execution_count": 9,
     "metadata": {},
     "output_type": "execute_result"
    }
   ],
   "source": [
    "# Claro que también podemos verlo así \n",
    "\n",
    "suma = sample.sum()\n",
    "cantidad_de_datos = len(sample)\n",
    "media = suma/cantidad_de_datos\n",
    "media"
   ]
  },
  {
   "cell_type": "code",
   "execution_count": null,
   "metadata": {},
   "outputs": [],
   "source": []
  }
 ],
 "metadata": {
  "kernelspec": {
   "display_name": "base",
   "language": "python",
   "name": "python3"
  },
  "language_info": {
   "codemirror_mode": {
    "name": "ipython",
    "version": 3
   },
   "file_extension": ".py",
   "mimetype": "text/x-python",
   "name": "python",
   "nbconvert_exporter": "python",
   "pygments_lexer": "ipython3",
   "version": "3.9.13"
  },
  "vscode": {
   "interpreter": {
    "hash": "22dda84f40c9a96a29230e9b860ae414f3d9e6739d489f535d31d8b226c84df0"
   }
  }
 },
 "nbformat": 4,
 "nbformat_minor": 2
}
