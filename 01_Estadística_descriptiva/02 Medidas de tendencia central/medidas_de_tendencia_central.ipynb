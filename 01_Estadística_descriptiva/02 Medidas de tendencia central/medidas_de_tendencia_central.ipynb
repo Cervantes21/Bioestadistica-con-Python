{
 "cells": [
  {
   "cell_type": "markdown",
   "metadata": {},
   "source": [
    "<div style='background-color:yellow;color:black;font-family:monospace;'>\n",
    "    <h1 align='center'><b>Medidas de tendencia central</b></h1>\n",
    "</div>"
   ]
  },
  {
   "cell_type": "markdown",
   "metadata": {},
   "source": [
    "Las medidas de tendencia central informan acerca de cuál es el valor más representativo de una determianda variable o, dicho de forma equivalente, estos estimadores indican alrededor de qué valor se agrupan los datos observados. Las medidas de tendencia central de la muestra sirven tanto para resumir los resultados observados como para realizar inferencias acerca de los parámetros poblacionales correspondientes. A continuación se describen los principales estimadores de la tendencia central de una variable."
   ]
  },
  {
   "cell_type": "markdown",
   "metadata": {},
   "source": [
    "## **Media aritmética**\n",
    "\n",
    "La **media aritmética**, denotada por ***X***, se define como la suma de cada uno de los valores muestrales dividida por el número de observaciones totales. Si denotamos por ***n*** el tamaño muestral y por x{i}***X̣i*** el valor observador para el sujeto i-ésimo, **i = 1, ..., *n***, la media vendría dada por \n",
    "\n",
    "**Formúla**\n",
    "\n",
    "![formula_de_lamedia]()\n",
    "\n",
    "La **media** es la medida de tendencia central más utilizada y de más fácil interpretación.\n",
    "\n",
    "Corresponde al \"centro de gravedad\" de los datos de muestra.\n",
    "\n",
    "Su principal limitación es que está influenciada por los valores extremos y, en este caso, puede no ser un fiel reflejo de la tendencia de la distribución.\n",
    "\n"
   ]
  },
  {
   "cell_type": "markdown",
   "metadata": {},
   "source": [
    "### Ejemplo de la media:\n",
    "\n",
    "Para este ejemplo, construiremos datos aleatorios con una librería de Python llamada **Numpy** y también usaremos **Pandas** y veremos también como programar y calcular la **media** y cómo puede una librería también simplificar la labor."
   ]
  },
  {
   "cell_type": "code",
   "execution_count": null,
   "metadata": {},
   "outputs": [],
   "source": [
    "# Importamos librerías:\n",
    "\n",
    "import numpy as np\n",
    "import pandas as pd"
   ]
  }
 ],
 "metadata": {
  "kernelspec": {
   "display_name": "Python 3 (ipykernel)",
   "language": "python",
   "name": "python3"
  },
  "language_info": {
   "codemirror_mode": {
    "name": "ipython",
    "version": 3
   },
   "file_extension": ".py",
   "mimetype": "text/x-python",
   "name": "python",
   "nbconvert_exporter": "python",
   "pygments_lexer": "ipython3",
   "version": "3.9.13"
  }
 },
 "nbformat": 4,
 "nbformat_minor": 2
}
